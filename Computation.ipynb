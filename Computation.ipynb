{
 "cells": [
  {
   "cell_type": "code",
   "execution_count": 1,
   "id": "defbc058-c2d8-4a65-91c4-7eb22bc11152",
   "metadata": {},
   "outputs": [
    {
     "name": "stdin",
     "output_type": "stream",
     "text": [
      "Enter number of days:  5.4\n"
     ]
    },
    {
     "name": "stdout",
     "output_type": "stream",
     "text": [
      "There are 466560.0000000001 seconds in 5.4 days.\n"
     ]
    }
   ],
   "source": [
    "# Write a program that asks the user for a number of days. The program then prints out the number of seconds in the number of days given.\n",
    "\n",
    "num_days = float(input(\"Enter number of days: \")) # This asks the user to input the number of days\n",
    "\n",
    "sum_seconds = num_days*24*60*60 # To calculate the total number of seconds in the given number of days\n",
    "\n",
    "print(\"There are\", sum_seconds, \"seconds in\", num_days, \"days.\") "
   ]
  },
  {
   "cell_type": "code",
   "execution_count": 2,
   "id": "ab11b59c-8c1a-4243-af04-ce9d930007a7",
   "metadata": {},
   "outputs": [
    {
     "name": "stdin",
     "output_type": "stream",
     "text": [
      "Enter the radius of the sphere:  4.5\n"
     ]
    },
    {
     "name": "stdout",
     "output_type": "stream",
     "text": [
      "The volume of the sphere is: 84.834\n"
     ]
    }
   ],
   "source": [
    "# Program that asks a user to input the radius then the program calculates the volume of a sphere \n",
    "r= float(input(\"Enter the radius of the sphere: \")) # Asks for the input (float) from the user\n",
    "PI = 3.142 # Uppercase to show it is constant\n",
    "volume = r ** 2 * 4/3 * PI # using the exponential operator ( r ** 2) for r^3\n",
    "print(\"The volume of the sphere is:\", volume)"
   ]
  },
  {
   "cell_type": "code",
   "execution_count": 4,
   "id": "aa88699b-cdb4-408b-9f50-9a274e5421af",
   "metadata": {},
   "outputs": [
    {
     "name": "stdin",
     "output_type": "stream",
     "text": [
      "Enter the length of the square: 5.7\n"
     ]
    },
    {
     "name": "stdout",
     "output_type": "stream",
     "text": [
      " The perimeter of the square is: 22.8\n",
      " The area of the square is: 32.49\n"
     ]
    }
   ],
   "source": [
    "# Program to calculate the perimeter and area of a square\n",
    "\n",
    "# Function to calculate perimeter\n",
    "def calculate_perimeter(length):\n",
    "    return length * 4\n",
    "\n",
    "# Function to calculate area\n",
    "def calculate_area(length):\n",
    "    return length * length\n",
    "    \n",
    "length = float(input(\"Enter the length of the square:\"))\n",
    "\n",
    "# To call the functions\n",
    "perimeter = calculate_perimeter(length) \n",
    "area = calculate_area(length)\n",
    "\n",
    "# To print the outputs\n",
    "\n",
    "print(\" The perimeter of the square is:\", perimeter)\n",
    "print(\" The area of the square is:\", area)"
   ]
  },
  {
   "cell_type": "code",
   "execution_count": 6,
   "id": "93ed97eb-f4aa-42b9-8ef8-2cd7c4ab32f5",
   "metadata": {},
   "outputs": [
    {
     "name": "stdin",
     "output_type": "stream",
     "text": [
      " Enter a Alphabetic Character A\n"
     ]
    },
    {
     "name": "stdout",
     "output_type": "stream",
     "text": [
      "A is an Uppercase Letter\n"
     ]
    }
   ],
   "source": [
    "# program using functions that determines whether a character input by a user is uppercase or lower case\n",
    "def det_char(ch): # function to determine the character's nature (Upper or Lower)\n",
    "    if ch>=\"A\" and ch<=\"Z\":\n",
    "        print(ch, \"is an Uppercase Letter\")\n",
    "    elif ch>=\"a\" and ch<=\"z\":\n",
    "         print(ch, \"is a Lowercase Letter\")\n",
    "    else:\n",
    "        print(ch, \"is not an Alphabet Letter\") # If the character entered is either a digit or symbol\n",
    "    \n",
    "\n",
    "ch = input(\" Enter a Alphabetic Character\") # To take input given by the user \n",
    "det_char(ch)  # Calls the function\n",
    "\n",
    "   \n",
    "\n"
   ]
  },
  {
   "cell_type": "code",
   "execution_count": 8,
   "id": "b656530f-7ae3-4185-9bde-8dde14013d8f",
   "metadata": {},
   "outputs": [
    {
     "name": "stdout",
     "output_type": "stream",
     "text": [
      "1.0416666666666665\n"
     ]
    }
   ],
   "source": [
    "x=0\n",
    "y=20\n",
    "while y>=6:  # while y is greater  than 6 is true, must not be less than 6\n",
    "     y=y-4\n",
    "     x=x+2/y\n",
    "print (x)  \n",
    "x\n",
    "\n"
   ]
  },
  {
   "cell_type": "code",
   "execution_count": 10,
   "id": "a903b475-390f-4b9f-9424-0e30d30ec11d",
   "metadata": {},
   "outputs": [
    {
     "name": "stdout",
     "output_type": "stream",
     "text": [
      "1.0416666666666665\n"
     ]
    }
   ],
   "source": [
    "x=0\n",
    "y=20\n",
    "\n",
    "while True:  # While these conditions are true\n",
    "    y = y - 4\n",
    "    if y == 0: # If y is 0\n",
    "        print(\"Mathematical Error\")\n",
    "        break # Stops the loop\n",
    "    x = x + 2 / y\n",
    "    if y < 6:\n",
    "        break # Ends the loop\n",
    "\n",
    "print(x)"
   ]
  },
  {
   "cell_type": "code",
   "execution_count": 17,
   "id": "965816f1-5534-41ef-b129-1ca029ceb049",
   "metadata": {},
   "outputs": [
    {
     "name": "stdin",
     "output_type": "stream",
     "text": [
      " Enter a Value  4.6\n",
      " Enter a Value  6.7\n",
      " Enter a Value  7.9\n",
      " Enter a Value  9.0\n",
      " Enter a Value  5\n"
     ]
    },
    {
     "name": "stdout",
     "output_type": "stream",
     "text": [
      "[4.6, 6.7, 7.9, 9.0, 5.0]\n",
      " The average is: 6.640000000000001\n"
     ]
    }
   ],
   "source": [
    "# loop for a user to continually input 5 values to populate an array\n",
    "lst = [] # Starts when the array is empty\n",
    "values = 5\n",
    "for i in range (values): #  values from the user \n",
    "    lst.append(float(input(\" Enter a Value \")) )# adds the value to the list (lst), can be a float\n",
    "print(lst)\n",
    "\n",
    "average = sum(lst)/values # Sums the values in the list then divides it by the numbe rof values\n",
    "\n",
    "print(\" The average is:\", average)"
   ]
  },
  {
   "cell_type": "code",
   "execution_count": null,
   "id": "7bc55626-2134-461b-8e2d-844f54c161da",
   "metadata": {},
   "outputs": [],
   "source": []
  }
 ],
 "metadata": {
  "kernelspec": {
   "display_name": "Python 3 (ipykernel)",
   "language": "python",
   "name": "python3"
  },
  "language_info": {
   "codemirror_mode": {
    "name": "ipython",
    "version": 3
   },
   "file_extension": ".py",
   "mimetype": "text/x-python",
   "name": "python",
   "nbconvert_exporter": "python",
   "pygments_lexer": "ipython3",
   "version": "3.11.7"
  }
 },
 "nbformat": 4,
 "nbformat_minor": 5
}
